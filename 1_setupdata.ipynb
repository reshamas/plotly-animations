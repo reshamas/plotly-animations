{
 "cells": [
  {
   "cell_type": "markdown",
   "metadata": {},
   "source": [
    "## Part 1:  Get data ready"
   ]
  },
  {
   "cell_type": "markdown",
   "metadata": {},
   "source": [
    "## COVID19 Data Exploration\n",
    "### By:  Reshama Shaikh\n",
    "### JH Data: \n",
    "https://github.com/CSSEGISandData/COVID-19/tree/master/csse_covid_19_data/csse_covid_19_time_series"
   ]
  },
  {
   "cell_type": "markdown",
   "metadata": {},
   "source": [
    "---"
   ]
  },
  {
   "cell_type": "code",
   "execution_count": null,
   "metadata": {},
   "outputs": [],
   "source": [
    "from datetime import date\n",
    "\n",
    "current_date = date.today()\n",
    "print(\"Today's date:\", current_date)"
   ]
  },
  {
   "cell_type": "code",
   "execution_count": null,
   "metadata": {},
   "outputs": [],
   "source": [
    "import matplotlib\n",
    "import matplotlib.pyplot as plt\n",
    "import pandas as pd\n",
    "import numpy as np\n",
    "from dateutil import parser\n",
    "import watermark\n",
    "\n",
    "%load_ext watermark\n",
    "%matplotlib inline"
   ]
  },
  {
   "cell_type": "code",
   "execution_count": null,
   "metadata": {},
   "outputs": [],
   "source": [
    "import plotly.express as px\n",
    "import plotly.graph_objects as go"
   ]
  },
  {
   "cell_type": "code",
   "execution_count": null,
   "metadata": {},
   "outputs": [],
   "source": [
    "%watermark -n -v -m -g -iv"
   ]
  },
  {
   "cell_type": "markdown",
   "metadata": {},
   "source": [
    "---"
   ]
  },
  {
   "cell_type": "markdown",
   "metadata": {},
   "source": [
    "# Set up directories"
   ]
  },
  {
   "cell_type": "code",
   "execution_count": null,
   "metadata": {},
   "outputs": [],
   "source": [
    "from pathlib import Path"
   ]
  },
  {
   "cell_type": "code",
   "execution_count": null,
   "metadata": {},
   "outputs": [],
   "source": [
    "Path(\"data_raw\").mkdir(parents=True, exist_ok=True)\n",
    "\n",
    "path_datain = \"data_raw/\""
   ]
  },
  {
   "cell_type": "code",
   "execution_count": null,
   "metadata": {},
   "outputs": [],
   "source": [
    "Path(\"data_derived\").mkdir(parents=True, exist_ok=True)\n",
    "\n",
    "path_dataout = \"data_derived/\""
   ]
  },
  {
   "cell_type": "code",
   "execution_count": null,
   "metadata": {},
   "outputs": [],
   "source": [
    "Path(\"graphs\").mkdir(parents=True, exist_ok=True)\n",
    "\n",
    "path_graphs = \"graphs/\""
   ]
  },
  {
   "cell_type": "markdown",
   "metadata": {},
   "source": [
    "---"
   ]
  },
  {
   "cell_type": "markdown",
   "metadata": {},
   "source": [
    "# Read in data"
   ]
  },
  {
   "cell_type": "code",
   "execution_count": null,
   "metadata": {},
   "outputs": [],
   "source": [
    "def get_raw_data(data_url, path_datain, file_name):\n",
    "    file_url = data_url + \"/\" + file_name\n",
    "    !wget -N {file_url} -P {path_datain}\n",
    "    \n",
    "def read_raw_data(path_datain, file_name):\n",
    "    df_use = pd.read_csv(path_datain+file_name)\n",
    "    \n",
    "    return df_use"
   ]
  },
  {
   "cell_type": "code",
   "execution_count": null,
   "metadata": {},
   "outputs": [],
   "source": [
    "data_url='https://raw.githubusercontent.com/CSSEGISandData/COVID-19/master/csse_covid_19_data/csse_covid_19_time_series'\n",
    "\n",
    "file_name = 'time_series_covid19_confirmed_global.csv'\n",
    "get_raw_data(data_url, path_datain, file_name)\n",
    "cases = read_raw_data(path_datain, file_name)\n",
    "\n",
    "file_name = 'time_series_covid19_deaths_global.csv'\n",
    "get_raw_data(data_url, path_datain, file_name)\n",
    "deaths = read_raw_data(path_datain, file_name)\n",
    "\n"
   ]
  },
  {
   "cell_type": "code",
   "execution_count": null,
   "metadata": {},
   "outputs": [],
   "source": [
    "cases.shape"
   ]
  },
  {
   "cell_type": "code",
   "execution_count": null,
   "metadata": {},
   "outputs": [],
   "source": [
    "cases.head()"
   ]
  },
  {
   "cell_type": "code",
   "execution_count": null,
   "metadata": {},
   "outputs": [],
   "source": [
    "deaths.shape"
   ]
  },
  {
   "cell_type": "code",
   "execution_count": null,
   "metadata": {},
   "outputs": [],
   "source": [
    "deaths.head(5)"
   ]
  },
  {
   "cell_type": "markdown",
   "metadata": {},
   "source": [
    "# Restructure data (horiz to vert)"
   ]
  },
  {
   "cell_type": "code",
   "execution_count": null,
   "metadata": {},
   "outputs": [],
   "source": [
    "def restructure(dfname, idvar):\n",
    "    df_use = dfname.melt(id_vars=['Province/State', 'Country/Region', 'Lat', 'Long'], var_name='date', value_name=idvar)\n",
    "    df_use.drop(['Lat', 'Long'], axis=1, inplace=True)\n",
    "    df_use.sort_values(by=['Country/Region','Province/State', 'date'], inplace=True)\n",
    "    \n",
    "    return df_use"
   ]
  },
  {
   "cell_type": "code",
   "execution_count": null,
   "metadata": {},
   "outputs": [],
   "source": [
    "dfcases = restructure(cases, idvar='cases')\n",
    "dfcases.shape"
   ]
  },
  {
   "cell_type": "code",
   "execution_count": null,
   "metadata": {},
   "outputs": [],
   "source": [
    "dfcases.head(3)"
   ]
  },
  {
   "cell_type": "code",
   "execution_count": null,
   "metadata": {},
   "outputs": [],
   "source": [
    "dfdeaths = restructure(deaths, idvar='deaths')\n",
    "dfdeaths.shape"
   ]
  },
  {
   "cell_type": "code",
   "execution_count": null,
   "metadata": {},
   "outputs": [],
   "source": [
    "dfdeaths.head()"
   ]
  },
  {
   "cell_type": "markdown",
   "metadata": {},
   "source": [
    "# Merge cases & deaths dataframes"
   ]
  },
  {
   "cell_type": "code",
   "execution_count": null,
   "metadata": {},
   "outputs": [],
   "source": [
    "results = pd.merge(dfcases, dfdeaths, on=['Country/Region','Province/State', 'date'])"
   ]
  },
  {
   "cell_type": "code",
   "execution_count": null,
   "metadata": {},
   "outputs": [],
   "source": [
    "results[[\"date2\"]] = results[[\"date\"]].apply(pd.to_datetime)"
   ]
  },
  {
   "cell_type": "code",
   "execution_count": null,
   "metadata": {},
   "outputs": [],
   "source": [
    "#results.dtypes"
   ]
  },
  {
   "cell_type": "code",
   "execution_count": null,
   "metadata": {},
   "outputs": [],
   "source": [
    "results.shape"
   ]
  },
  {
   "cell_type": "code",
   "execution_count": null,
   "metadata": {
    "scrolled": false
   },
   "outputs": [],
   "source": [
    "results.head()"
   ]
  },
  {
   "cell_type": "markdown",
   "metadata": {},
   "source": [
    "# Clean up country names"
   ]
  },
  {
   "cell_type": "code",
   "execution_count": null,
   "metadata": {},
   "outputs": [],
   "source": [
    "pd.set_option('display.max_rows', 200)\n"
   ]
  },
  {
   "cell_type": "code",
   "execution_count": null,
   "metadata": {},
   "outputs": [],
   "source": [
    "print(results[results['Country/Region'] == \"Turkey\"][:15])\n"
   ]
  },
  {
   "cell_type": "code",
   "execution_count": null,
   "metadata": {},
   "outputs": [],
   "source": [
    "results['Country/Region'].mask(results['Province/State'] == 'Hong Kong', 'Hong Kong China', inplace=True)\n",
    "# rename \"South_Korea\"\n",
    "results['Country/Region'].mask(results['Country/Region'] == 'Korea, South', 'South Korea', inplace=True)\n",
    "# name \"Hubei\" province in China where Wuhan is located\n",
    "results['Country/Region'].mask(results['Province/State'] == 'Hubei', 'Hubei China', inplace=True)\n"
   ]
  },
  {
   "cell_type": "code",
   "execution_count": null,
   "metadata": {},
   "outputs": [],
   "source": [
    "print(results[results['Country/Region'] == \"Hong Kong China\"][:5])\n",
    "print(results[results['Country/Region'] == \"South Korea\"][:5])\n",
    "print(results[results['Country/Region'] == \"Hubei China\"][:5])"
   ]
  },
  {
   "cell_type": "code",
   "execution_count": null,
   "metadata": {},
   "outputs": [],
   "source": [
    "#print(results[results['Country/Region'] == \"Vietnam\"][:])"
   ]
  },
  {
   "cell_type": "markdown",
   "metadata": {},
   "source": [
    "# Collapse by country/territory"
   ]
  },
  {
   "cell_type": "code",
   "execution_count": null,
   "metadata": {},
   "outputs": [],
   "source": [
    "country_collapse = results.groupby(['Country/Region','date','date2']).sum()"
   ]
  },
  {
   "cell_type": "code",
   "execution_count": null,
   "metadata": {},
   "outputs": [],
   "source": [
    "type(country_collapse)"
   ]
  },
  {
   "cell_type": "code",
   "execution_count": null,
   "metadata": {},
   "outputs": [],
   "source": [
    "country_collapse.reset_index(inplace = True)\n"
   ]
  },
  {
   "cell_type": "code",
   "execution_count": null,
   "metadata": {},
   "outputs": [],
   "source": [
    "print(country_collapse.head(5))"
   ]
  },
  {
   "cell_type": "code",
   "execution_count": null,
   "metadata": {},
   "outputs": [],
   "source": [
    "#print(country_collapse[country_collapse['Country/Region'] == \"France\"][:])\n",
    "#print(country_collapse[country_collapse['Country/Region'] == \"Australia\"][:])"
   ]
  },
  {
   "cell_type": "markdown",
   "metadata": {},
   "source": [
    "# df with: cases & deaths"
   ]
  },
  {
   "cell_type": "code",
   "execution_count": null,
   "metadata": {},
   "outputs": [],
   "source": [
    "df_cases_deaths = country_collapse.copy()"
   ]
  },
  {
   "cell_type": "code",
   "execution_count": null,
   "metadata": {},
   "outputs": [],
   "source": [
    "df_cases_deaths.head(3)"
   ]
  },
  {
   "cell_type": "code",
   "execution_count": null,
   "metadata": {},
   "outputs": [],
   "source": [
    "df_cases_deaths= df_cases_deaths.drop([\"date\"], axis=1)\n",
    "df_cases_deaths\n",
    "df_cases_deaths.rename({'date2': 'date'}, axis=1, inplace=True)\n",
    "df_cases_deaths['date_n'] = df_cases_deaths['date']\n",
    "df_cases_deaths['date'] = df_cases_deaths['date'].astype(str)\n"
   ]
  },
  {
   "cell_type": "code",
   "execution_count": null,
   "metadata": {},
   "outputs": [],
   "source": [
    "df_cases_deaths.dtypes"
   ]
  },
  {
   "cell_type": "code",
   "execution_count": null,
   "metadata": {},
   "outputs": [],
   "source": [
    "df_cases_deaths.head(3)"
   ]
  },
  {
   "cell_type": "code",
   "execution_count": null,
   "metadata": {},
   "outputs": [],
   "source": [
    "#print(df_cases_deaths[df_cases_deaths['Country/Region'] == \"Vietnam\"][:])"
   ]
  },
  {
   "cell_type": "markdown",
   "metadata": {},
   "source": [
    "# df with: date of first case"
   ]
  },
  {
   "cell_type": "code",
   "execution_count": null,
   "metadata": {},
   "outputs": [],
   "source": [
    "dfall = df_cases_deaths.copy()"
   ]
  },
  {
   "cell_type": "code",
   "execution_count": null,
   "metadata": {},
   "outputs": [],
   "source": [
    "# it is working\n",
    "def get_date_first_case(dfin):\n",
    "    dfin.sort_values(by=['Country/Region', 'date'], inplace=True)\n",
    "\n",
    "    dfuse = dfin.copy()\n",
    "    dfuse['dummy'] = 1\n",
    "    #print(dfuse.head())\n",
    "    first = dfuse.groupby(['Country/Region', 'cases', 'dummy']).first()\n",
    "    print(first.head(3))\n",
    "    first.reset_index(inplace = True)\n",
    "    \n",
    "    df_first_case = first[first['cases'] > 0]\n",
    "    df_first_case2 = df_first_case.groupby(['Country/Region', 'dummy']).first()\n",
    "    df_first_case2.reset_index(inplace = True)\n",
    "\n",
    "    df_first_case2.rename({'date': 'date_first_case'}, axis=1, inplace=True)\n",
    "    \n",
    "    # keep only the two columsn we need:  country, date of first {case or death}\n",
    "    df_first_case2 = df_first_case2[['Country/Region','date_first_case']]\n",
    "    #print(df_first_case2.head())\n",
    "    df_first_case2.sort_values(by=['Country/Region'])\n",
    "\n",
    "    df_cases_deaths2 = pd.merge(dfin, df_first_case2, on=['Country/Region'])\n",
    "    print(\"\\n\")\n",
    "    #print(df_cases_deaths2.head())\n",
    "\n",
    "    #print(df_cases_deaths2.dtypes)\n",
    "    # get day difference\n",
    "    \n",
    "    # 8/10/21: updated code here\n",
    "    df_cases_deaths2[['date_first_case2']] = df_cases_deaths2[['date_first_case']].apply(pd.to_datetime)\n",
    "    #df_cases_deaths2[['date_first_caseb']] = df_cases_deaths2['date_first_case'].apply(pd.to_datetime)\n",
    "    #print(df_cases_deaths2.dtypes)\n",
    "\n",
    "    df_cases_deaths2['days_since_first_case'] = ((df_cases_deaths2['date_n'] - df_cases_deaths2['date_first_case2']).dt.days) + 1\n",
    "    print(df_cases_deaths2.head())\n",
    "\n",
    "    \n",
    "    return df_cases_deaths2   "
   ]
  },
  {
   "cell_type": "code",
   "execution_count": null,
   "metadata": {},
   "outputs": [],
   "source": [
    "df_day_first_case= get_date_first_case(dfall)"
   ]
  },
  {
   "cell_type": "code",
   "execution_count": null,
   "metadata": {},
   "outputs": [],
   "source": [
    "# df with: date of first death"
   ]
  },
  {
   "cell_type": "code",
   "execution_count": null,
   "metadata": {},
   "outputs": [],
   "source": [
    "# it is working\n",
    "def get_date_first_death(dfin):\n",
    "    dfin.sort_values(by=['Country/Region', 'date'], inplace=True)\n",
    "\n",
    "    dfuse = dfin.copy()\n",
    "    dfuse['dummy'] = 1\n",
    "    #print(dfuse.head())\n",
    "    first = dfuse.groupby(['Country/Region', 'deaths', 'dummy']).first()\n",
    "    print(first.head(3))\n",
    "    first.reset_index(inplace = True)\n",
    "    \n",
    "    df_first_case = first[first['deaths'] > 0]\n",
    "    df_first_case2 = df_first_case.groupby(['Country/Region', 'dummy']).first()\n",
    "    df_first_case2.reset_index(inplace = True)\n",
    "\n",
    "    df_first_case2.rename({'date': 'date_first_death'}, axis=1, inplace=True)\n",
    "    \n",
    "    # keep only the two columsn we need:  country, date of first {case or death}\n",
    "    df_first_case2 = df_first_case2[['Country/Region','date_first_death']]\n",
    "    #print(df_first_case2.head())\n",
    "    df_first_case2.sort_values(by=['Country/Region'])\n",
    "\n",
    "    df_cases_deaths2 = pd.merge(dfin, df_first_case2, on=['Country/Region'], how=\"outer\")\n",
    "    print(\"\\n\")\n",
    "    print(df_cases_deaths2.head())\n",
    "\n",
    "    print(df_cases_deaths2.dtypes)\n",
    "    # get day difference\n",
    "    df_cases_deaths2[['date_first_death']] = df_cases_deaths2[['date_first_death']].apply(pd.to_datetime)\n",
    "    df_cases_deaths2['days_since_first_death'] = ((df_cases_deaths2['date_n'] - df_cases_deaths2['date_first_death']).dt.days)+1\n",
    "    #print(df_cases_deaths2.head())\n",
    "\n",
    "    \n",
    "    return df_cases_deaths2   "
   ]
  },
  {
   "cell_type": "code",
   "execution_count": null,
   "metadata": {},
   "outputs": [],
   "source": [
    "df_day_first_cd= get_date_first_death(df_day_first_case)"
   ]
  },
  {
   "cell_type": "code",
   "execution_count": null,
   "metadata": {},
   "outputs": [],
   "source": [
    "df_day_first_cd.head()"
   ]
  },
  {
   "cell_type": "code",
   "execution_count": null,
   "metadata": {},
   "outputs": [],
   "source": [
    "print(df_day_first_case[df_day_first_case['Country/Region'] == \"Vietnam\"][:])"
   ]
  },
  {
   "cell_type": "code",
   "execution_count": null,
   "metadata": {},
   "outputs": [],
   "source": [
    "# Don't delete this. \n",
    "df_with_day0 = df_day_first_cd.copy()"
   ]
  },
  {
   "cell_type": "markdown",
   "metadata": {},
   "source": [
    "# df with:  daily count of cases and deaths (use lag dates)"
   ]
  },
  {
   "cell_type": "code",
   "execution_count": null,
   "metadata": {},
   "outputs": [],
   "source": [
    "usedf = df_with_day0.copy()\n",
    "usedf.sort_values([\"Country/Region\", 'date'])\n",
    "df = usedf.set_index([\"Country/Region\"])\n",
    "\n",
    "df['cases_lag'] = df.groupby(['Country/Region'])['cases'].shift(1)\n",
    "df.reset_index()\n",
    "\n",
    "#print(df.head())\n",
    "df['deaths_lag'] = df.groupby(['Country/Region'])['deaths'].shift(1)\n",
    "df.reset_index()\n",
    "\n",
    "\n",
    "df['daily_case_count'] = ((df['cases'] - df['cases_lag']))\n",
    "df['daily_death_count'] = ((df['deaths'] - df['deaths_lag']))\n",
    "\n",
    "\n",
    "#df.reset_index()\n",
    "df = df.drop([\"cases_lag\", \"deaths_lag\"], axis=1)\n",
    "\n",
    "df['daily_case_count'] = df['daily_case_count'].fillna(0).astype(np.int64)\n",
    "df['daily_death_count']= df['daily_death_count'].fillna(0).astype(np.int64)\n",
    "df.reset_index(inplace = True)\n",
    "\n",
    "df.info()\n",
    "df['days_c1_to_d1'] = (df['date_first_death'] - df['date_first_case2']).dt.days\n",
    "\n",
    "df['date_first_case'] = df['date_first_case'].astype(str)\n",
    "df['date_first_death'] = df['date_first_death'].astype(str)\n",
    "df['day_of_case'] = df['days_since_first_case']\n",
    "df['day_of_death'] = df['days_since_first_death']"
   ]
  },
  {
   "cell_type": "code",
   "execution_count": null,
   "metadata": {},
   "outputs": [],
   "source": [
    "df.head(5)"
   ]
  },
  {
   "cell_type": "code",
   "execution_count": null,
   "metadata": {},
   "outputs": [],
   "source": []
  },
  {
   "cell_type": "code",
   "execution_count": null,
   "metadata": {},
   "outputs": [],
   "source": [
    "# check that lag is computed correctly\n",
    "#print(df[df['Country/Region'] == \"Hong Kong China\"])\n",
    "#test_check = (df[df['Country/Region'] == \"Afghanistan\"])\n",
    "#test_check[25:30]"
   ]
  },
  {
   "cell_type": "code",
   "execution_count": null,
   "metadata": {},
   "outputs": [],
   "source": [
    "dfall = df.copy()"
   ]
  },
  {
   "cell_type": "code",
   "execution_count": null,
   "metadata": {},
   "outputs": [],
   "source": [
    "dfall.dtypes"
   ]
  },
  {
   "cell_type": "code",
   "execution_count": null,
   "metadata": {},
   "outputs": [],
   "source": [
    "dfall.head()"
   ]
  },
  {
   "cell_type": "code",
   "execution_count": null,
   "metadata": {},
   "outputs": [],
   "source": [
    "# check that date from first case/death gives correct number of days\n",
    "#print(dfall[dfall['Country/Region'] == \"Norway\"])\n",
    "#print(dfall[dfall['Country/Region'] == \"Sweden\"])\n"
   ]
  },
  {
   "cell_type": "code",
   "execution_count": null,
   "metadata": {},
   "outputs": [],
   "source": [
    "dfall['day_name'] = dfall['date_n'].dt.day_name()\n",
    "#dfall['day_name']"
   ]
  },
  {
   "cell_type": "code",
   "execution_count": null,
   "metadata": {},
   "outputs": [],
   "source": [
    "print(dfall[dfall['Country/Region'] == \"Vietnam\"][:])"
   ]
  },
  {
   "cell_type": "code",
   "execution_count": null,
   "metadata": {},
   "outputs": [],
   "source": [
    "dfall.info()"
   ]
  },
  {
   "cell_type": "markdown",
   "metadata": {},
   "source": [
    "---"
   ]
  },
  {
   "cell_type": "markdown",
   "metadata": {},
   "source": [
    "# write day0_date to csv file"
   ]
  },
  {
   "cell_type": "code",
   "execution_count": null,
   "metadata": {},
   "outputs": [],
   "source": [
    "# Don't delete this\n",
    "\n",
    "dftemp = dfall.copy()\n",
    "dftemp.drop(['date_n','days_since_first_case', 'days_since_first_death'], axis=1, inplace=True)\n",
    "\n",
    "dftemp.to_csv(path_dataout+\"covid_day0.csv\")"
   ]
  },
  {
   "cell_type": "markdown",
   "metadata": {},
   "source": [
    "---"
   ]
  },
  {
   "cell_type": "markdown",
   "metadata": {},
   "source": [
    "## Exploratory: looks at distribution of:  days from c1 to d1"
   ]
  },
  {
   "cell_type": "code",
   "execution_count": null,
   "metadata": {},
   "outputs": [],
   "source": [
    "one_row_per_country = dfall.groupby(['Country/Region', 'date_first_case', 'date_first_death', 'days_c1_to_d1']).last()\n",
    "one_row_per_country.reset_index(inplace = True)\n",
    "\n",
    "one_row_per_country = one_row_per_country[['Country/Region', 'date_first_case', 'date_first_death', 'days_c1_to_d1', 'date', 'cases', 'deaths' ]]\n",
    "one_row_per_country\n",
    "\n",
    "\n",
    "one_row_per_country.to_csv(path_dataout +\"country_level_data.csv\")\n",
    "\n",
    "#df.groupby('Country/Region').nunique().plot(kind='bar')\n",
    "\n",
    "#plt.show()"
   ]
  },
  {
   "cell_type": "code",
   "execution_count": null,
   "metadata": {},
   "outputs": [],
   "source": [
    "one_row_per_country['days_c1_to_d1'].describe()"
   ]
  },
  {
   "cell_type": "code",
   "execution_count": null,
   "metadata": {},
   "outputs": [],
   "source": [
    "# plt.figure (figsize=(15,10))\n",
    "\n",
    "# one_row_per_country['days_c1_to_d1'].plot.hist(grid=True, bins=15, rwidth=0.9,\n",
    "#                    color='#607c8e')\n",
    "# plt.title('Days from case 1 to death 1')\n",
    "# plt.xlabel('Days')\n",
    "# plt.ylabel('')\n",
    "# plt.grid(axis='y', alpha=1.0)"
   ]
  },
  {
   "cell_type": "code",
   "execution_count": null,
   "metadata": {},
   "outputs": [],
   "source": [
    "import plotly.offline as pyo\n",
    "import plotly.graph_objs as go\n"
   ]
  },
  {
   "cell_type": "code",
   "execution_count": null,
   "metadata": {},
   "outputs": [],
   "source": [
    "df = one_row_per_country.copy()\n",
    "\n",
    "df.sort_values(by=['days_c1_to_d1'], inplace=True)\n",
    "df.head(5)\n"
   ]
  },
  {
   "cell_type": "markdown",
   "metadata": {},
   "source": [
    "---"
   ]
  },
  {
   "cell_type": "markdown",
   "metadata": {},
   "source": [
    "## Plot 1: Days from First Case to First Death (frequency count)"
   ]
  },
  {
   "cell_type": "code",
   "execution_count": null,
   "metadata": {},
   "outputs": [],
   "source": [
    "days_count= df.groupby(['days_c1_to_d1']).count()"
   ]
  },
  {
   "cell_type": "code",
   "execution_count": null,
   "metadata": {},
   "outputs": [],
   "source": [
    "days_count.reset_index(inplace = True)\n",
    "days_count.head(5)\n"
   ]
  },
  {
   "cell_type": "code",
   "execution_count": null,
   "metadata": {},
   "outputs": [],
   "source": [
    "data1 = [go.Bar(x = df['days_c1_to_d1'],\n",
    "              y = df['Country/Region']),]\n",
    "\n",
    "\n",
    "data2 = [go.Bar(x = days_count['days_c1_to_d1'],\n",
    "              y = days_count['Country/Region']),]\n",
    "\n",
    "layout = go.Layout(title='Days from First Case to First Death (frequency count)')\n",
    "\n",
    "fig = go.Figure(data=data1, layout=layout)\n",
    "#pyo.plot(fig)\n",
    "fig.show()\n",
    "\n",
    "# fig = go.Figure(data2, layout)\n",
    "# fig.show()\n"
   ]
  },
  {
   "cell_type": "markdown",
   "metadata": {},
   "source": [
    "---"
   ]
  },
  {
   "cell_type": "markdown",
   "metadata": {},
   "source": [
    "## Impute missing data (some minor data fixes)\n"
   ]
  },
  {
   "cell_type": "code",
   "execution_count": null,
   "metadata": {},
   "outputs": [],
   "source": [
    "#imputing missing data here\n",
    "\n",
    "newdf=dfall.copy()\n",
    "\n",
    "maskv2 = (newdf['Country/Region'] == 'India') & (newdf['days_since_first_case'] == 337)\n",
    "\n",
    "newdf['daily_case_count'].mask((maskv2), 20929, inplace=True)\n",
    "\n",
    "\n",
    "maskv2 = (newdf['Country/Region'] == 'India') & (newdf['days_since_first_case'] == 345)\n",
    "\n",
    "newdf['daily_case_count'].mask((maskv2), 18434, inplace=True)\n",
    "\n",
    "maskv3 = (newdf['Country/Region'] == 'India') & (newdf['days_since_first_case'] == 346)\n",
    "\n",
    "newdf['daily_case_count'].mask((maskv3), 18433, inplace=True)"
   ]
  },
  {
   "cell_type": "code",
   "execution_count": null,
   "metadata": {},
   "outputs": [],
   "source": [
    "dfall = newdf.copy()"
   ]
  },
  {
   "cell_type": "code",
   "execution_count": null,
   "metadata": {},
   "outputs": [],
   "source": [
    "dfall.head(5)"
   ]
  },
  {
   "cell_type": "markdown",
   "metadata": {},
   "source": [
    "# Write final dataframe out to file"
   ]
  },
  {
   "cell_type": "code",
   "execution_count": null,
   "metadata": {},
   "outputs": [],
   "source": [
    "#!conda install -c conda-forge pyarrow"
   ]
  },
  {
   "cell_type": "code",
   "execution_count": null,
   "metadata": {},
   "outputs": [],
   "source": [
    "import feather"
   ]
  },
  {
   "cell_type": "code",
   "execution_count": null,
   "metadata": {},
   "outputs": [],
   "source": [
    "#%time feather.write_dataframe(dfall, path_dataout + 'df_feather.file')\n",
    "\n",
    "dfall.rename({'Country/Region': 'Country'}, axis=1, inplace=True)\n",
    "\n",
    "\n",
    "%time feather.write_dataframe(dfall, path_dataout + 'df_feather.file')"
   ]
  },
  {
   "cell_type": "code",
   "execution_count": null,
   "metadata": {},
   "outputs": [],
   "source": [
    "print(\"Today's date:\", current_date)"
   ]
  },
  {
   "cell_type": "markdown",
   "metadata": {},
   "source": [
    "# READ in cleaned dataframe"
   ]
  },
  {
   "cell_type": "code",
   "execution_count": null,
   "metadata": {},
   "outputs": [],
   "source": [
    "#feather.read_dataframe('data_derived/df_feather.file')"
   ]
  },
  {
   "cell_type": "code",
   "execution_count": null,
   "metadata": {},
   "outputs": [],
   "source": []
  },
  {
   "cell_type": "code",
   "execution_count": null,
   "metadata": {},
   "outputs": [],
   "source": []
  },
  {
   "cell_type": "code",
   "execution_count": null,
   "metadata": {},
   "outputs": [],
   "source": []
  },
  {
   "cell_type": "code",
   "execution_count": null,
   "metadata": {},
   "outputs": [],
   "source": []
  },
  {
   "cell_type": "code",
   "execution_count": null,
   "metadata": {},
   "outputs": [],
   "source": []
  },
  {
   "cell_type": "code",
   "execution_count": null,
   "metadata": {},
   "outputs": [],
   "source": []
  }
 ],
 "metadata": {
  "kernelspec": {
   "display_name": "myenv3.9",
   "language": "python",
   "name": "myenv3.9"
  },
  "language_info": {
   "codemirror_mode": {
    "name": "ipython",
    "version": 3
   },
   "file_extension": ".py",
   "mimetype": "text/x-python",
   "name": "python",
   "nbconvert_exporter": "python",
   "pygments_lexer": "ipython3",
   "version": "3.9.5"
  }
 },
 "nbformat": 4,
 "nbformat_minor": 2
}
