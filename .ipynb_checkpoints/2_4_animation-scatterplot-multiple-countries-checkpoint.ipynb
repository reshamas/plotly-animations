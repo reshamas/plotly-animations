{
 "cells": [
  {
   "cell_type": "code",
   "execution_count": null,
   "metadata": {},
   "outputs": [],
   "source": [
    "from datetime import date\n",
    "\n",
    "today = date.today\n",
    "print(\"Today's date:\", today)"
   ]
  },
  {
   "cell_type": "markdown",
   "metadata": {},
   "source": [
    "---"
   ]
  },
  {
   "cell_type": "markdown",
   "metadata": {},
   "source": [
    "# FINAL USE 1:  Scatter Plot Animation \n",
    "\n",
    "Documentation Example: https://plotly.com/python/animations/#animated-figures-with-plotly-express"
   ]
  },
  {
   "cell_type": "code",
   "execution_count": null,
   "metadata": {},
   "outputs": [],
   "source": [
    "import pandas as pd\n",
    "import watermark\n",
    "import feather\n",
    "import plotly.express as px\n",
    "%reload_ext watermark"
   ]
  },
  {
   "cell_type": "code",
   "execution_count": null,
   "metadata": {},
   "outputs": [],
   "source": [
    "dfall = feather.read_dataframe('data_derived' + '/df_feather.file')"
   ]
  },
  {
   "cell_type": "code",
   "execution_count": null,
   "metadata": {},
   "outputs": [],
   "source": [
    "# Get data ready\n",
    "df_use=dfall.copy()\n",
    "\n",
    "# rename country for label\n",
    "df_use['Country'].mask(df_use['Country'] == 'United Kingdom', 'UK', inplace=True)\n",
    "\n",
    "# take subset of data\n",
    "country_list = ['India', 'US','Brazil','Italy', \n",
    "               'UK','Turkey', 'Mexico', 'Peru']\n",
    "\n",
    "df_subset = df_use[df_use['Country'].isin(country_list)]\n",
    "\n",
    "keep_cols = ['date', 'Country', 'cases', 'daily_case_count', 'daily_death_count','deaths']\n",
    "df= df_subset.filter(keep_cols)\n",
    "\n",
    "df.sample(2)"
   ]
  },
  {
   "cell_type": "markdown",
   "metadata": {},
   "source": [
    "<div class=\"admonition note alert alert-info\">\n",
    "<h1 class=\"first admonition-title\" style=\"font-weight: bold;\">To highlight</h1>\n",
    "    \n",
    "<li class=\"first admonition-title\" style=\"font-weight: normal;\">Bug with the legend</li>\n",
    "<li class=\"first admonition-title\" style=\"font-weight: normal;\">\n",
    "    <tt class=\"docutils literal\">x</tt> and\n",
    "    <tt class=\"docutils literal\">y</tt> \n",
    "    data, what makes sense?</li>\n",
    "<li class=\"first admonition-title\" style=\"font-weight: normal;\">Use subset of data for testing.</li>\n",
    "    \n",
    "</div>"
   ]
  },
  {
   "cell_type": "code",
   "execution_count": null,
   "metadata": {},
   "outputs": [],
   "source": [
    "# Run animated scatterplot\n",
    "\n",
    "fig = px.scatter(df, x=\"cases\", y=\"deaths\", animation_frame=\"date\", animation_group=\"Country\", \n",
    "                 size=\"cases\", color=\"Country\", text=\"Country\", hover_name=\"Country\",\n",
    "                 #color_discrete_sequence=px.colors.qualitative.G10,\n",
    "                 #log_x=True, \n",
    "                 size_max=65,\n",
    "                 range_x=[-100000,45000000], range_y=[-100000,900000])\n",
    "\n",
    "fig.layout.updatemenus[0].buttons[0].args[1][\"frame\"][\"duration\"] = 25\n",
    "\n",
    "fig.update_layout(showlegend=False)\n",
    "fig.update_layout(title_text=\"Coronavirus Cases Over Time\")\n",
    "\n",
    "#fig.write_html(f'/Users/reshamashaikh/ds/my_repos/reshamas.github.io/assets/images/covid/1_anim_scatter_covid.html', include_plotlyjs=\"cdn\")\n",
    "\n",
    "fig.show()"
   ]
  },
  {
   "cell_type": "code",
   "execution_count": null,
   "metadata": {},
   "outputs": [],
   "source": []
  },
  {
   "cell_type": "code",
   "execution_count": null,
   "metadata": {},
   "outputs": [],
   "source": []
  },
  {
   "cell_type": "markdown",
   "metadata": {},
   "source": [
    "---"
   ]
  }
 ],
 "metadata": {
  "kernelspec": {
   "display_name": "myenv3.9",
   "language": "python",
   "name": "myenv3.9"
  },
  "language_info": {
   "codemirror_mode": {
    "name": "ipython",
    "version": 3
   },
   "file_extension": ".py",
   "mimetype": "text/x-python",
   "name": "python",
   "nbconvert_exporter": "python",
   "pygments_lexer": "ipython3",
   "version": "3.9.5"
  }
 },
 "nbformat": 4,
 "nbformat_minor": 4
}
