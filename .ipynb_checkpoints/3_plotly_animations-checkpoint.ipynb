{
 "cells": [
  {
   "cell_type": "markdown",
   "metadata": {},
   "source": [
    "# Plotly Animations\n",
    "### By:  Reshama Shaikh\n",
    "### COVID-19 JH Data: \n",
    "https://github.com/CSSEGISandData/COVID-19/tree/master/csse_covid_19_data/csse_covid_19_time_series"
   ]
  },
  {
   "cell_type": "markdown",
   "metadata": {},
   "source": [
    "---"
   ]
  },
  {
   "cell_type": "code",
   "execution_count": null,
   "metadata": {},
   "outputs": [],
   "source": [
    "from datetime import date\n",
    "\n",
    "today = date.today()\n",
    "\n",
    "print(\"Today's date:\", today)"
   ]
  },
  {
   "cell_type": "code",
   "execution_count": null,
   "metadata": {},
   "outputs": [],
   "source": [
    "#!pip install matplotlib\n",
    "#!pip install feather\n",
    "#!pip install feather-format"
   ]
  },
  {
   "cell_type": "code",
   "execution_count": null,
   "metadata": {},
   "outputs": [],
   "source": [
    "import matplotlib\n",
    "import matplotlib.pyplot as plt\n",
    "import pandas as pd\n",
    "import numpy as np\n",
    "from dateutil import parser\n",
    "import watermark\n",
    "import feather\n",
    "from pathlib import Path\n",
    "\n",
    "%load_ext watermark\n",
    "%matplotlib inline"
   ]
  },
  {
   "cell_type": "code",
   "execution_count": null,
   "metadata": {},
   "outputs": [],
   "source": [
    "import plotly.express as px\n",
    "import plotly.graph_objects as go"
   ]
  },
  {
   "cell_type": "code",
   "execution_count": null,
   "metadata": {},
   "outputs": [],
   "source": [
    "%watermark -n -v -m -g -iv"
   ]
  },
  {
   "cell_type": "markdown",
   "metadata": {},
   "source": [
    "---"
   ]
  },
  {
   "cell_type": "markdown",
   "metadata": {},
   "source": [
    "# READ in cleaned dataframe"
   ]
  },
  {
   "cell_type": "code",
   "execution_count": null,
   "metadata": {},
   "outputs": [],
   "source": [
    "path_dataout = 'data_derived'\n",
    "dfall = feather.read_dataframe(path_dataout+'/df_feather.file')"
   ]
  },
  {
   "cell_type": "code",
   "execution_count": null,
   "metadata": {},
   "outputs": [],
   "source": [
    "dfall.info()"
   ]
  },
  {
   "cell_type": "code",
   "execution_count": null,
   "metadata": {},
   "outputs": [],
   "source": [
    "dfall.head(2)"
   ]
  },
  {
   "cell_type": "markdown",
   "metadata": {},
   "source": [
    "---"
   ]
  },
  {
   "cell_type": "markdown",
   "metadata": {},
   "source": [
    "# Work with subset of data\n",
    "\n",
    "<div class=\"admonition note alert alert-info\">\n",
    "<p class=\"first admonition-title\" style=\"font-weight: bold;\">Note</p>\n",
    "<p class=\"last\">Use subset of <tt class=\"docutils literal\">data</tt> .</p>\n",
    "</div>"
   ]
  },
  {
   "cell_type": "code",
   "execution_count": null,
   "metadata": {},
   "outputs": [],
   "source": [
    "dfall.shape"
   ]
  },
  {
   "cell_type": "code",
   "execution_count": null,
   "metadata": {},
   "outputs": [],
   "source": [
    "country_list = ['India', 'US']\n",
    "df_subset1 = dfall[dfall['Country'].isin(country_list)]"
   ]
  },
  {
   "cell_type": "code",
   "execution_count": null,
   "metadata": {},
   "outputs": [],
   "source": [
    "df_subset1.head(2)"
   ]
  },
  {
   "cell_type": "code",
   "execution_count": null,
   "metadata": {},
   "outputs": [],
   "source": [
    "df_subset1.tail(2)"
   ]
  },
  {
   "cell_type": "code",
   "execution_count": null,
   "metadata": {},
   "outputs": [],
   "source": [
    "xval='day_of_case'\n",
    "xval_list = df_subset1[xval].tolist()\n",
    "x_max=max(xval_list)\n",
    "x_min=min(xval_list)\n",
    "\n",
    "print(x_min)\n",
    "print(x_max)"
   ]
  },
  {
   "cell_type": "code",
   "execution_count": null,
   "metadata": {},
   "outputs": [],
   "source": [
    "align_cases = 100\n",
    "xval='day_of_case'\n",
    "yval='daily_case_count'\n",
    "\n",
    "usedf = df_subset1[df_subset1[xval] >= int(align_cases)]"
   ]
  },
  {
   "cell_type": "code",
   "execution_count": null,
   "metadata": {},
   "outputs": [],
   "source": [
    "# 2) specify a color variable\n",
    "fig = px.line(\n",
    "    usedf\n",
    "    , x=xval\n",
    "    , y=yval\n",
    "    , title = \"COVID19 over Time (days)\"\n",
    "    , color=\"Country\"\n",
    "    #, hover_name=\"date\"\n",
    "    , range_x=[align_cases-50, x_max+50]\n",
    ")\n",
    "fig.show()"
   ]
  },
  {
   "cell_type": "markdown",
   "metadata": {},
   "source": [
    "# 1) Animation: dot plot, two groups\n",
    "\n",
    "- `method` [docs](https://plotly.com/python/reference/layout/updatemenus/#layout-updatemenus-items-updatemenu-buttons-items-button-method)"
   ]
  },
  {
   "cell_type": "code",
   "execution_count": null,
   "metadata": {},
   "outputs": [],
   "source": [
    "# read data in\n",
    "path_dataout = 'data_derived'\n",
    "dfall = feather.read_dataframe(path_dataout+'/df_feather.file')\n",
    "\n",
    "# take subset of the data\n",
    "country_list = ['India', 'US']\n",
    "df_subset1 = dfall[dfall['Country'].isin(country_list)]\n",
    "\n",
    "# get x-axis min and max values\n",
    "xval_list = df_subset1['day_of_case'].tolist()\n",
    "x_max=max(xval_list)\n",
    "x_min=min(xval_list)\n",
    "\n",
    "# align cases\n",
    "align_cases = 10\n",
    "xval='day_of_case'\n",
    "yval='daily_case_count'\n",
    "\n",
    "usedf = df_subset1[df_subset1[xval] >= int(align_cases)]"
   ]
  },
  {
   "cell_type": "code",
   "execution_count": null,
   "metadata": {},
   "outputs": [],
   "source": [
    "# adding 6/15/21\n",
    "# this works, please don't touch\n",
    "\n",
    "fig = px.scatter(usedf, x=xval, y=yval,\n",
    "           animation_frame=\"day_of_case\", animation_group=\"Country\",\n",
    "           color=\"Country\",\n",
    "           #size=\"pop\", color=\"continent\", hover_name=\"country\",\n",
    "           #log_x=True, size_max=55, \n",
    "           range_x=[-10,x_max+50], range_y=[-50000, 500000])\n",
    "\n",
    "fig.layout.updatemenus[0].buttons[0].args[1][\"frame\"][\"duration\"] = 10\n",
    "\n",
    "frame_length = x_max + 50\n",
    "slider_length = 0.75  #percent of x-axis length\n",
    "method_type = 'animate'\n",
    "method_type = 'restyle'   #['restyle', 'relayout', 'animate', 'update', 'skip']\n",
    "\n",
    "sliders = [dict(steps = [dict(method= method_type,\n",
    "                              args= [[f'frame{k+1}'], #HERE IS THE k^th FRAME NAME                          \n",
    "                              dict(mode= 'immediate',\n",
    "                                   frame= dict(duration=3, redraw=False),\n",
    "                                   transition=dict(duration= 0))\n",
    "                                 ],\n",
    "                              label=f'{k+1}'  #label for each frame marked on the slider\n",
    "                             ) \n",
    "                         for k in range(1, frame_length)], \n",
    "                active=1,\n",
    "                transition= dict(duration= 0.2 ),\n",
    "                x=0, # slider starting position; specify as: An int or float in the interval [-2, 3]  \n",
    "                y=0, # 'y' property is a number, specify as: An int or float in the interval [-2, 3]\n",
    "                currentvalue=dict(font=dict(size=12), \n",
    "                                  prefix=' ', \n",
    "                                  visible=True, #True, \n",
    "                                  xanchor= 'center'\n",
    "                                 ),  \n",
    "               len=slider_length) \n",
    "          ]\n",
    "\n",
    "fig.update_layout(sliders=sliders)\n",
    "#fig.update_layout(transition_duration=3)\n",
    "fig.show()"
   ]
  },
  {
   "cell_type": "code",
   "execution_count": null,
   "metadata": {},
   "outputs": [],
   "source": []
  },
  {
   "cell_type": "code",
   "execution_count": null,
   "metadata": {},
   "outputs": [],
   "source": []
  },
  {
   "cell_type": "code",
   "execution_count": null,
   "metadata": {},
   "outputs": [],
   "source": []
  },
  {
   "cell_type": "code",
   "execution_count": null,
   "metadata": {},
   "outputs": [],
   "source": [
    "# add\n",
    "\n",
    "#text=\"Country\","
   ]
  },
  {
   "cell_type": "code",
   "execution_count": null,
   "metadata": {},
   "outputs": [],
   "source": [
    "# added 8/8/21\n",
    "# don't touch above example; CAN EDIT THIS EXAMPLE\n",
    "\n",
    "fig = px.scatter(usedf, x=xval, y=yval,\n",
    "           animation_frame=\"day_of_case\", animation_group=\"Country\",\n",
    "           color=\"Country\",\n",
    "           size=\"cases\", \n",
    "           hover_name=\"Country\",\n",
    "           text=\"Country\",\n",
    "           #log_x=True, \n",
    "           size_max=55, \n",
    "           range_x=[-10,x_max + 50], range_y=[-10, 500000])\n",
    "\n",
    "fig.layout.updatemenus[0].buttons[0].args[1][\"frame\"][\"duration\"] = 20\n",
    "\n",
    "sliders = [dict(steps = [dict(method= 'animate',\n",
    "                              args= [[f'frame{k+1}'], #HERE IS THE k^th FRAME NAME                          \n",
    "                              dict(mode= 'immediate',\n",
    "                                   frame= dict(duration=3, redraw=False),\n",
    "                                   transition=dict(duration= 0))\n",
    "                                 ],\n",
    "                              label=f'{k+1}'  #label for each frame marked on the slider\n",
    "                             ) for k in range(1, len(usedf)-1)], \n",
    "                active=1,\n",
    "                transition= dict(duration= 0 ),\n",
    "                x=0, # slider starting position  \n",
    "                y=0, \n",
    "                currentvalue=dict(font=dict(size=12), \n",
    "                                  prefix='frame: ', \n",
    "                                  visible=True, \n",
    "                                  xanchor= 'center'\n",
    "                                 ),  \n",
    "               len=0.5) #slider length\n",
    "           ]\n",
    "\n",
    "fig.update_layout(sliders=sliders)\n",
    "#fig.update_layout(transition_duration=3)\n",
    "fig.show()"
   ]
  },
  {
   "cell_type": "code",
   "execution_count": null,
   "metadata": {},
   "outputs": [],
   "source": []
  },
  {
   "cell_type": "code",
   "execution_count": 2,
   "metadata": {},
   "outputs": [],
   "source": [
    "import feather\n",
    "dfall = feather.read_dataframe('data_derived' + '/df_feather.file')"
   ]
  },
  {
   "cell_type": "code",
   "execution_count": 3,
   "metadata": {},
   "outputs": [],
   "source": [
    "# reference:  https://community.plotly.com/t/cumulative-lines-animation-in-python/25707/2\n",
    "import numpy as np\n",
    "import pandas as pd\n",
    "import plotly.graph_objects as go  #plotly 4.0.0rc1\n",
    "\n",
    "country_list = ['India', 'US']\n",
    "#country_list = ['Brazil','US']\n",
    "#country_list = ['Sweden','Norway']\n",
    "#country_list = ['Italy','Germany']\n",
    "\n",
    "df_subset = dfall[dfall['Country'].isin(country_list)]\n",
    "df_subset\n",
    "\n",
    "df_long = pd.melt(df_subset, id_vars =['date','Country'], value_vars =['daily_case_count'])\n",
    "df_long\n",
    "\n",
    "df_wide = df_long.pivot(\n",
    "    index=\"date\",\n",
    "    columns=\"Country\",\n",
    "    values=\"value\"\n",
    ")\n",
    "\n",
    "df = df_wide.copy()\n",
    "df.reset_index(inplace=True)\n",
    "df\n",
    "\n",
    "\n",
    "timeval = 'date'\n",
    "name1 = country_list[0] #'India'\n",
    "name2 = country_list[1] #'US'\n",
    "group1 = df[name1].tolist()\n",
    "group2 = df[name2].tolist()\n",
    "\n",
    "#x_min = df[timeval][0]\n",
    "#x_max = df[timeval][len(df)-1]\n",
    "\n",
    "x_min = '2020-01-01'\n",
    "x_max = '2021-08-01'\n",
    "x_max = '2021-10-01'\n",
    "\n",
    "y_min = min(min(group1), min(group2))\n",
    "y_max = max(max(group1), max(group2)) + 10000"
   ]
  },
  {
   "cell_type": "code",
   "execution_count": 4,
   "metadata": {},
   "outputs": [
    {
     "ename": "NameError",
     "evalue": "name 'trace1' is not defined",
     "output_type": "error",
     "traceback": [
      "\u001b[0;31m---------------------------------------------------------------------------\u001b[0m",
      "\u001b[0;31mNameError\u001b[0m                                 Traceback (most recent call last)",
      "\u001b[0;32m/var/folders/f5/4hllfzqx6pq2sfm22_khf5400000gn/T/ipykernel_12361/3103114514.py\u001b[0m in \u001b[0;36m<module>\u001b[0;34m\u001b[0m\n\u001b[1;32m      1\u001b[0m \u001b[0;31m# ----------------------------------------------------------------\u001b[0m\u001b[0;34m\u001b[0m\u001b[0;34m\u001b[0m\u001b[0;34m\u001b[0m\u001b[0m\n\u001b[0;32m----> 2\u001b[0;31m \u001b[0mfig\u001b[0m \u001b[0;34m=\u001b[0m \u001b[0mgo\u001b[0m\u001b[0;34m.\u001b[0m\u001b[0mFigure\u001b[0m\u001b[0;34m(\u001b[0m\u001b[0mdata\u001b[0m\u001b[0;34m=\u001b[0m\u001b[0;34m[\u001b[0m\u001b[0mtrace1\u001b[0m\u001b[0;34m,\u001b[0m \u001b[0mtrace2\u001b[0m\u001b[0;34m]\u001b[0m\u001b[0;34m,\u001b[0m \u001b[0mframes\u001b[0m\u001b[0;34m=\u001b[0m\u001b[0mframes\u001b[0m\u001b[0;34m,\u001b[0m \u001b[0mlayout\u001b[0m\u001b[0;34m=\u001b[0m\u001b[0mlayout\u001b[0m\u001b[0;34m)\u001b[0m\u001b[0;34m\u001b[0m\u001b[0;34m\u001b[0m\u001b[0m\n\u001b[0m\u001b[1;32m      3\u001b[0m \u001b[0;34m\u001b[0m\u001b[0m\n\u001b[1;32m      4\u001b[0m trace1 = go.Scatter(x=df[timeval][:2],\n\u001b[1;32m      5\u001b[0m                     \u001b[0my\u001b[0m\u001b[0;34m=\u001b[0m\u001b[0mgroup1\u001b[0m\u001b[0;34m[\u001b[0m\u001b[0;34m:\u001b[0m\u001b[0;36m2\u001b[0m\u001b[0;34m]\u001b[0m\u001b[0;34m,\u001b[0m\u001b[0;34m\u001b[0m\u001b[0;34m\u001b[0m\u001b[0m\n",
      "\u001b[0;31mNameError\u001b[0m: name 'trace1' is not defined"
     ]
    }
   ],
   "source": [
    "\n",
    "\n",
    "# ----------------------------------------------------------------\n",
    "fig = go.Figure(data=[trace1, trace2], frames=frames, layout=layout)\n",
    "\n",
    "trace1 = go.Scatter(x=df[timeval][:2],\n",
    "                    y=group1[:2],\n",
    "                    mode='lines',\n",
    "                    line=dict(width=1.5),\n",
    "                    name=name1,\n",
    "                    \n",
    ")\n",
    "\n",
    "trace2 = go.Scatter(x = df[timeval][:2],\n",
    "                    y = group2[:2],\n",
    "                    mode='lines',\n",
    "                    line=dict(width=1.5),\n",
    "                   name=name2)\n",
    "\n",
    "increment = 20\n",
    "frames = [dict(data= [dict(type='scatter',\n",
    "                           x=df[timeval][:k+increment],\n",
    "                           y=group1[:k+increment]),\n",
    "                      dict(type='scatter',\n",
    "                           x=df[timeval][:k+increment],\n",
    "                           y=group2[:k+increment])],\n",
    "               traces= [0, 1],  # frames[k]['data'][0]  updates trace1, and   frames[k]['data'][1], trace2 \n",
    "              )\n",
    "          for k  in  range(1, len(group1)-1)] \n",
    "\n",
    "layout = go.Layout(width=800,\n",
    "                   height=500,\n",
    "                   showlegend=True,\n",
    "                   hovermode='closest',\n",
    "                   updatemenus=[dict(type='buttons', showactive=False,\n",
    "                                y=1.05,\n",
    "                                x=1.15,\n",
    "                                xanchor='right',\n",
    "                                yanchor='bottom',\n",
    "                                pad=dict(t=0, r=10),\n",
    "                                buttons=[dict(label='Play',\n",
    "                                              method='animate',\n",
    "                                              args=[None, \n",
    "                                                    dict(frame=dict(duration=0.1, \n",
    "                                                                    redraw=False),\n",
    "                                                         transition=dict(duration=0),\n",
    "                                                         fromcurrent=True,\n",
    "                                                         mode='immediate')\n",
    "                                                   ])\n",
    "                                        ])\n",
    "                               ,dict(type='buttons', showactive=False,\n",
    "                                y=0.55,\n",
    "                                x=1.15,\n",
    "                                xanchor='right',\n",
    "                                yanchor='bottom',\n",
    "                                pad=dict(t=0, r=10),\n",
    "                                buttons=[dict(label='Stop',\n",
    "                                              method='restyle',\n",
    "                                              args=[None, \n",
    "                                                    dict(frame=dict(duration=0.1, \n",
    "                                                                    redraw=False),\n",
    "                                                         transition=dict(duration=0),\n",
    "                                                         fromcurrent=True,\n",
    "                                                         mode='immediate')\n",
    "                                                   ])\n",
    "                                        ])\n",
    "                               ],\n",
    "                  )\n",
    "\n",
    "layout.update(xaxis =dict(range=[x_min, x_max], autorange=False),\n",
    "              yaxis =dict(range=[y_min-20, y_max+20]), \n",
    "              title=\"COVID-19 Cases Over Time\",\n",
    "             )\n",
    "\n",
    "\n",
    "\n",
    "\n",
    "fig.add_annotation(text = (f\"@reshamas / {today}<br>Source: JHU CSSE\"), showarrow=False, x = 0, \n",
    "                   y = -0.11, xref='paper', yref='paper', xanchor='left', yanchor='bottom', xshift=-3,\n",
    "                   yshift=-15, font=dict(size=10, color=\"grey\"), align=\"left\")\n",
    "\n",
    "fig.show()"
   ]
  },
  {
   "cell_type": "code",
   "execution_count": null,
   "metadata": {},
   "outputs": [],
   "source": [
    "df_subset.head(2)"
   ]
  },
  {
   "cell_type": "code",
   "execution_count": null,
   "metadata": {},
   "outputs": [],
   "source": [
    "country_list = ['India', 'US']\n",
    "\n",
    "df_subset = dfall[dfall['Country'].isin(country_list)]\n",
    "#df_subset\n",
    "\n",
    "name1 = country_list[0] #'India'\n",
    "name2 = country_list[1] #'US'\n",
    "\n",
    "name1\n",
    "\n",
    "df_long = pd.melt(df_subset, id_vars =['date','Country'], value_vars =['daily_case_count'])\n",
    "df_long\n",
    "\n",
    "\n",
    "df_wide = df_long.pivot(\n",
    "    index=\"date\",\n",
    "    columns=\"Country\",\n",
    "    values=\"value\"\n",
    ")\n",
    "\n",
    "df = df_wide.copy()\n",
    "df.reset_index(inplace=True)\n",
    "df\n",
    "\n",
    "\n",
    "timeval = 'date'\n",
    "name1 = country_list[0] #'India'\n",
    "name2 = country_list[1] #'US'\n",
    "group1 = df[name1].tolist()\n",
    "group2 = df[name2].tolist()\n",
    "\n",
    "#x_min = df[timeval][0]\n",
    "#x_max = df[timeval][len(df)-1]\n",
    "\n",
    "x_min = '2020-01-01'\n",
    "x_max = '2021-08-01'\n",
    "\n",
    "y_min = min(min(group1), min(group2))\n",
    "y_max = max(max(group1), max(group2)) + 10000\n"
   ]
  },
  {
   "cell_type": "code",
   "execution_count": null,
   "metadata": {},
   "outputs": [],
   "source": [
    "country_list = ['India', 'US']\n",
    "df_subset = dfall[dfall['Country'].isin(country_list)]\n",
    "df_subset['country'] = df_subset['Country']"
   ]
  },
  {
   "cell_type": "code",
   "execution_count": null,
   "metadata": {},
   "outputs": [],
   "source": [
    "# this works, but does not have separate circles for 2 countries\n",
    "\n",
    "# try adjusting this code with COVID\n",
    "import plotly.express as px\n",
    "\n",
    "px.scatter(df_subset, x=\"daily_case_count\", y=\"cases\"\n",
    "           , animation_frame=\"days_since_first_case\"\n",
    "           , animation_group=\"Country\"\n",
    "           , size=\"cases\" \n",
    "           ,color=\"country\"\n",
    "           #, hover_name=\"Country/Region\"\n",
    "           ,log_x=False, size_max=100, range_x=[-100000,500000], range_y=[-10000000,50000000])\n"
   ]
  },
  {
   "cell_type": "code",
   "execution_count": null,
   "metadata": {},
   "outputs": [],
   "source": []
  },
  {
   "cell_type": "markdown",
   "metadata": {},
   "source": [
    "---"
   ]
  },
  {
   "cell_type": "markdown",
   "metadata": {},
   "source": [
    "## trying to make a general function"
   ]
  },
  {
   "cell_type": "code",
   "execution_count": null,
   "metadata": {},
   "outputs": [],
   "source": [
    "dfall = feather.read_dataframe('data_derived' + '/df_feather.file')"
   ]
  },
  {
   "cell_type": "code",
   "execution_count": null,
   "metadata": {},
   "outputs": [],
   "source": [
    "#dfall = newdf.copy()\n",
    "df_use=dfall.copy()"
   ]
  },
  {
   "cell_type": "code",
   "execution_count": null,
   "metadata": {},
   "outputs": [],
   "source": [
    "# reference:  https://community.plotly.com/t/cumulative-lines-animation-in-python/25707/2\n",
    "import numpy as np\n",
    "import pandas as pd\n",
    "import plotly.graph_objects as go  #plotly 4.0.0rc1\n",
    "\n",
    "country_list = ['India', 'US']\n",
    "#country_list = ['Brazil','US']\n",
    "#country_list = ['Sweden','Norway']\n",
    "#country_list = ['Italy','Germany']\n",
    "#country_list = ['Italy','France']\n",
    "#country_list = ['Germany','France']\n",
    "\n",
    "\n",
    "df_subset = df_use[df_use['Country'].isin(country_list)]\n",
    "df_subset.head()\n",
    "\n",
    "df_long = pd.melt(df_subset, id_vars =['date','Country'], value_vars =['daily_case_count'])\n",
    "df_long\n",
    "\n",
    "\n",
    "df_wide = df_long.pivot(\n",
    "    index=\"date\",\n",
    "    columns=\"Country\",\n",
    "    values=\"value\")\n",
    "df_wide\n",
    "\n",
    "df = df_wide.copy()\n",
    "df.reset_index(inplace=True)\n",
    "\n",
    "# What df looks like\n",
    "#df[:5]\n",
    "#Country\tdate\tIndia\tUS\n",
    "#0\t2020-01-22\t0\t0\n",
    "#1\t2020-01-23\t0\t0\n",
    "#2\t2020-01-24\t0\t1\n",
    "#3\t2020-01-25\t0\t0\n",
    "#4\t2020-01-26\t0\t3\n",
    "\n",
    "timeval = 'date'\n",
    "group1 = country_list[0]\n",
    "group2 = country_list[1] \n",
    "group1_list = df[group1].tolist()\n",
    "group2_list = df[group2].tolist()\n",
    "\n",
    "x_min = '2020-01-01'\n",
    "x_max = '2021-10-01'\n",
    "\n",
    "y_min = min(min(group1_list), min(group2_list))\n",
    "y_max = max(max(group1_list), max(group2_list)) + 10000"
   ]
  },
  {
   "cell_type": "code",
   "execution_count": null,
   "metadata": {},
   "outputs": [],
   "source": [
    "df[timeval][:2]"
   ]
  },
  {
   "cell_type": "code",
   "execution_count": null,
   "metadata": {},
   "outputs": [],
   "source": [
    "# ----------------------------------------------------------------\n",
    "\n",
    "trace1 = go.Scatter(x=df[timeval][:2],\n",
    "                    y=group1_list[:2],\n",
    "                    mode='lines',\n",
    "                    line=dict(width=1.5),\n",
    "                    name=group1,\n",
    "                    \n",
    ")\n",
    "\n",
    "trace2 = go.Scatter(x = df[timeval][:2],\n",
    "                    y = group2_list[:2],\n",
    "                    mode='lines',\n",
    "                    line=dict(width=1.5),\n",
    "                    name=group2)\n",
    "\n",
    "\n",
    "increment = 20\n",
    "frames = [dict(data= [dict(type='scatter',\n",
    "                           x=df[timeval][:k+increment],\n",
    "                           y=group1_list[:k+increment]),\n",
    "                      dict(type='scatter',\n",
    "                           x=df[timeval][:k+increment],\n",
    "                           y=group2_list[:k+increment])],\n",
    "               traces= [0, 1],  # frames[k]['data'][0]  updates trace1, and   frames[k]['data'][1], trace2 \n",
    "              )\n",
    "          for k  in  range(1, len(group1_list)-1)] \n",
    "\n",
    "layout = go.Layout(width=800,\n",
    "                   height=500,\n",
    "                   showlegend=True,\n",
    "                   hovermode='closest',\n",
    "                   updatemenus=[dict(type='buttons', showactive=False,\n",
    "                                y=1.05,\n",
    "                                x=1.15,\n",
    "                                xanchor='right',\n",
    "                                yanchor='bottom',\n",
    "                                pad=dict(t=0, r=10),\n",
    "                                buttons=[dict(label='Play',\n",
    "                                              method='animate',\n",
    "                                              args=[None, \n",
    "                                                    dict(frame=dict(duration=0.1, \n",
    "                                                                    redraw=False),\n",
    "                                                         transition=dict(duration=0),\n",
    "                                                         fromcurrent=True,\n",
    "                                                         mode='immediate')\n",
    "                                                   ])\n",
    "                                        ])\n",
    "                               ,dict(type='buttons', showactive=False,\n",
    "                                y=0.55,\n",
    "                                x=1.15,\n",
    "                                xanchor='right',\n",
    "                                yanchor='bottom',\n",
    "                                pad=dict(t=0, r=10),\n",
    "                                buttons=[dict(label='Stop',\n",
    "                                              method='restyle',\n",
    "                                              args=[None, \n",
    "                                                    dict(frame=dict(duration=0.1, \n",
    "                                                                    redraw=False),\n",
    "                                                         transition=dict(duration=0),\n",
    "                                                         fromcurrent=True,\n",
    "                                                         mode='immediate')\n",
    "                                                   ])\n",
    "                                        ])\n",
    "                               ],\n",
    "                  )\n",
    "\n",
    "fig = go.Figure(data=[trace1, trace2], frames=frames, layout=layout)\n",
    "\n",
    "layout.update(xaxis =dict(range=[x_min, x_max], autorange=False),\n",
    "              yaxis =dict(range=[y_min-20, y_max+20]), \n",
    "              title=\"COVID-19 Cases Over Time\",\n",
    "             )\n",
    "\n",
    "fig.add_annotation(text = (f\"@reshamas / {today}<br>Source: JHU CSSE\"), showarrow=False, x = 0, \n",
    "                   y = -0.11, xref='paper', yref='paper', xanchor='left', yanchor='bottom', xshift=-3,\n",
    "                   yshift=-15, font=dict(size=10, color=\"grey\"), align=\"left\")\n",
    "\n",
    "fig.show()"
   ]
  },
  {
   "cell_type": "markdown",
   "metadata": {},
   "source": [
    "---"
   ]
  },
  {
   "cell_type": "markdown",
   "metadata": {},
   "source": [
    "---"
   ]
  },
  {
   "cell_type": "markdown",
   "metadata": {},
   "source": [
    "# FINAL USE 1:  Scatter Plot Animation \n",
    "\n",
    "Documentation Example: https://plotly.com/python/animations/#animated-figures-with-plotly-express"
   ]
  },
  {
   "cell_type": "code",
   "execution_count": null,
   "metadata": {},
   "outputs": [],
   "source": [
    "import pandas as pd\n",
    "import watermark\n",
    "import feather\n",
    "import plotly.express as px\n",
    "%reload_ext watermark"
   ]
  },
  {
   "cell_type": "code",
   "execution_count": null,
   "metadata": {},
   "outputs": [],
   "source": [
    "#%watermark -n -v -m -g -iv"
   ]
  },
  {
   "cell_type": "code",
   "execution_count": null,
   "metadata": {},
   "outputs": [],
   "source": [
    "path_dataout=\"data_derived\"\n",
    "\n",
    "dfall = feather.read_dataframe(path_dataout+'/df_feather.file')"
   ]
  },
  {
   "cell_type": "code",
   "execution_count": null,
   "metadata": {},
   "outputs": [],
   "source": [
    "# Get data ready\n",
    "\n",
    "df_use=dfall.copy()\n",
    "\n",
    "# rename country for label\n",
    "df_use['Country'].mask(df_use['Country'] == 'United Kingdom', 'UK', inplace=True)\n",
    "\n",
    "country_list = ['India', 'US','Brazil','Italy', \n",
    "               'UK','Turkey', 'Mexico', 'Peru']\n",
    "\n",
    "df_subset = df_use[df_use['Country'].isin(country_list)]\n",
    "\n",
    "keep_cols = ['date', 'Country', 'cases', 'daily_case_count', 'daily_death_count','deaths']\n",
    "df= df_subset.filter(keep_cols)\n",
    "df.sample(2)"
   ]
  },
  {
   "cell_type": "markdown",
   "metadata": {},
   "source": [
    "<div class=\"admonition note alert alert-info\">\n",
    "<h1 class=\"first admonition-title\" style=\"font-weight: bold;\">To highlight</h1>\n",
    "    \n",
    "<li class=\"first admonition-title\" style=\"font-weight: normal;\">Bug with the legend</li>\n",
    "<li class=\"first admonition-title\" style=\"font-weight: normal;\">x and y data, what makes sense?</li>\n",
    "    \n",
    "   \n",
    "<p class=\"last\">Use subset of <tt class=\"docutils literal\">data</tt> .</p>\n",
    "</div>"
   ]
  },
  {
   "cell_type": "code",
   "execution_count": null,
   "metadata": {},
   "outputs": [],
   "source": [
    "# show a blank graph\n",
    "#fig = px.scatter()\n",
    "#fig.show()"
   ]
  },
  {
   "cell_type": "code",
   "execution_count": null,
   "metadata": {},
   "outputs": [],
   "source": [
    "# Run animated scatterplot\n",
    "\n",
    "fig = px.scatter(df, x=\"cases\", y=\"deaths\", animation_frame=\"date\", animation_group=\"Country\", \n",
    "                 size=\"cases\", color=\"Country\", text=\"Country\", hover_name=\"Country\",\n",
    "                 #color_discrete_sequence=px.colors.qualitative.G10,\n",
    "                 #log_x=True, \n",
    "                 size_max=65,\n",
    "                 range_x=[-100000,45000000], range_y=[-100000,900000])\n",
    "\n",
    "fig.layout.updatemenus[0].buttons[0].args[1][\"frame\"][\"duration\"] = 25\n",
    "\n",
    "fig.update_layout(showlegend=False)\n",
    "fig.update_layout(title_text=\"Coronavirus Cases Over Time\")\n",
    "\n",
    "#fig.write_html(f'/Users/reshamashaikh/ds/my_repos/reshamas.github.io/assets/images/covid/1_anim_scatter_covid.html', include_plotlyjs=\"cdn\")\n",
    "\n",
    "fig.show()"
   ]
  },
  {
   "cell_type": "markdown",
   "metadata": {},
   "source": [
    "---"
   ]
  },
  {
   "cell_type": "markdown",
   "metadata": {},
   "source": [
    "# FINAL USE 2:  Line Plot Animation \n",
    "\n",
    "Documentation Example: https://community.plotly.com/t/cumulative-lines-animation-in-python/25707/2"
   ]
  },
  {
   "cell_type": "code",
   "execution_count": null,
   "metadata": {},
   "outputs": [],
   "source": [
    "import pandas as pd\n",
    "import watermark\n",
    "import feather\n",
    "#import plotly.express as px\n",
    "import plotly.graph_objects as go\n",
    "\n",
    "%reload_ext watermark"
   ]
  },
  {
   "cell_type": "code",
   "execution_count": null,
   "metadata": {},
   "outputs": [],
   "source": [
    "from datetime import date\n",
    "today = date.today()"
   ]
  },
  {
   "cell_type": "code",
   "execution_count": null,
   "metadata": {},
   "outputs": [],
   "source": [
    "#%watermark -n -v -m -g -iv"
   ]
  },
  {
   "cell_type": "code",
   "execution_count": null,
   "metadata": {},
   "outputs": [],
   "source": [
    "dfall = feather.read_dataframe('data_derived' + '/df_feather.file')"
   ]
  },
  {
   "cell_type": "code",
   "execution_count": null,
   "metadata": {},
   "outputs": [],
   "source": [
    "# Get data ready\n",
    "\n",
    "country_list = ['India', 'US']\n",
    "#country_list = ['Brazil','US']\n",
    "#country_list = ['Sweden','Norway']\n",
    "#country_list = ['Italy','Germany']\n",
    "\n",
    "df_subset = dfall[dfall['Country'].isin(country_list)]\n",
    "df_subset\n",
    "\n",
    "df_long = pd.melt(df_subset, id_vars =['date','Country'], value_vars =['daily_case_count'])\n",
    "df_long\n",
    "\n",
    "df_wide = df_long.pivot(\n",
    "    index=\"date\",\n",
    "    columns=\"Country\",\n",
    "    values=\"value\"\n",
    ")\n",
    "\n",
    "df = df_wide.copy()\n",
    "df.reset_index(inplace=True)\n",
    "df\n",
    "\n",
    "\n",
    "timeval = 'date'\n",
    "name1 = country_list[0] #'India'\n",
    "name2 = country_list[1] #'US'\n",
    "group1 = df[name1].tolist()\n",
    "group2 = df[name2].tolist()\n",
    "\n",
    "#x_min = df[timeval][0]\n",
    "#x_max = df[timeval][len(df)-1]\n",
    "\n",
    "x_min = '2020-01-01'\n",
    "x_max = '2021-08-01'\n",
    "x_max = '2021-10-01'\n",
    "\n",
    "y_min = min(min(group1), min(group2))\n",
    "y_max = max(max(group1), max(group2)) + 10000"
   ]
  },
  {
   "cell_type": "code",
   "execution_count": null,
   "metadata": {},
   "outputs": [],
   "source": [
    "\n",
    "\n",
    "\n",
    "\n",
    "trace1 = go.Scatter(x=df[timeval][:2],\n",
    "                    y=group1[:2],\n",
    "                    mode='lines',\n",
    "                    line=dict(width=1.5),\n",
    "                    name=name1,\n",
    "                    \n",
    ")\n",
    "\n",
    "trace2 = go.Scatter(x = df[timeval][:2],\n",
    "                    y = group2[:2],\n",
    "                    mode='lines',\n",
    "                    line=dict(width=1.5),\n",
    "                   name=name2)\n",
    "\n",
    "increment = 20\n",
    "frames = [dict(data= [dict(type='scatter',\n",
    "                           x=df[timeval][:k+increment],\n",
    "                           y=group1[:k+increment]),\n",
    "                      dict(type='scatter',\n",
    "                           x=df[timeval][:k+increment],\n",
    "                           y=group2[:k+increment])],\n",
    "               traces= [0, 1],  # frames[k]['data'][0]  updates trace1, and   frames[k]['data'][1], trace2 \n",
    "              )\n",
    "          for k  in  range(1, len(group1)-1)] \n",
    "\n",
    "layout = go.Layout(width=800,\n",
    "                   height=500,\n",
    "                   showlegend=True,\n",
    "                   hovermode='closest',\n",
    "                   updatemenus=[dict(type='buttons', showactive=False,\n",
    "                                y=1.05,\n",
    "                                x=1.15,\n",
    "                                xanchor='right',\n",
    "                                yanchor='bottom',\n",
    "                                pad=dict(t=0, r=10),\n",
    "                                buttons=[dict(label='Play',\n",
    "                                              method='animate',\n",
    "                                              args=[None, \n",
    "                                                    dict(frame=dict(duration=0.1, \n",
    "                                                                    redraw=False),\n",
    "                                                         transition=dict(duration=0),\n",
    "                                                         fromcurrent=True,\n",
    "                                                         mode='immediate')\n",
    "                                                   ])\n",
    "                                        ])\n",
    "                               ,dict(type='buttons', showactive=False,\n",
    "                                y=0.55,\n",
    "                                x=1.15,\n",
    "                                xanchor='right',\n",
    "                                yanchor='bottom',\n",
    "                                pad=dict(t=0, r=10),\n",
    "                                buttons=[dict(label='Stop',\n",
    "                                              method='restyle',\n",
    "                                              args=[None, \n",
    "                                                    dict(frame=dict(duration=0.1, \n",
    "                                                                    redraw=False),\n",
    "                                                         transition=dict(duration=0),\n",
    "                                                         fromcurrent=True,\n",
    "                                                         mode='immediate')\n",
    "                                                   ])\n",
    "                                        ])\n",
    "                               ],\n",
    "                  )\n",
    "\n",
    "# ----------------------------------------------------------------\n",
    "fig = go.Figure(data=[trace1, trace2], frames=frames, layout=layout)\n",
    "\n",
    "\n",
    "layout.update(xaxis =dict(range=[x_min, x_max], autorange=False),\n",
    "              yaxis =dict(range=[y_min-20, y_max+20]), \n",
    "              title=\"COVID-19 Cases Over Time\",\n",
    "             )\n",
    "\n",
    "\n",
    "\n",
    "\n",
    "fig.add_annotation(text = (f\"@reshamas / {today}<br>Source: JHU CSSE\"), showarrow=False, x = 0, \n",
    "                   y = -0.11, xref='paper', yref='paper', xanchor='left', yanchor='bottom', xshift=-3,\n",
    "                   yshift=-15, font=dict(size=10, color=\"grey\"), align=\"left\")\n",
    "\n",
    "fig.show()"
   ]
  },
  {
   "cell_type": "code",
   "execution_count": null,
   "metadata": {},
   "outputs": [],
   "source": []
  },
  {
   "cell_type": "code",
   "execution_count": null,
   "metadata": {},
   "outputs": [],
   "source": []
  },
  {
   "cell_type": "code",
   "execution_count": null,
   "metadata": {},
   "outputs": [],
   "source": []
  },
  {
   "cell_type": "code",
   "execution_count": null,
   "metadata": {},
   "outputs": [],
   "source": []
  }
 ],
 "metadata": {
  "kernelspec": {
   "display_name": "myenv3.9",
   "language": "python",
   "name": "myenv3.9"
  },
  "language_info": {
   "codemirror_mode": {
    "name": "ipython",
    "version": 3
   },
   "file_extension": ".py",
   "mimetype": "text/x-python",
   "name": "python",
   "nbconvert_exporter": "python",
   "pygments_lexer": "ipython3",
   "version": "3.9.5"
  }
 },
 "nbformat": 4,
 "nbformat_minor": 4
}
